{
 "cells": [
  {
   "cell_type": "code",
   "execution_count": 11,
   "id": "d4bffaf7",
   "metadata": {},
   "outputs": [],
   "source": [
    "import pandas as pd\n",
    "import numpy as np"
   ]
  },
  {
   "cell_type": "code",
   "execution_count": null,
   "id": "e5567bd2",
   "metadata": {},
   "outputs": [],
   "source": [
    "def check_transaction_violation(tx: dict, history_df: pd.DataFrame) -> dict:\n",
    "    triggered_rules = []\n",
    "\n",
    "    # Extract values\n",
    "    age = tx.get('Customer Age', 0)\n",
    "    time = tx.get('Transaction Time', 0)\n",
    "    hour = time // 10000\n",
    "    region_cust = tx.get('Customer Region', -1)\n",
    "    region_merchant = tx.get('Merchant Region', -1)\n",
    "    amount = tx.get('Transaction Amount', 0)\n",
    "    date = tx.get('Transaction Date')\n",
    "    month = date // 100\n",
    "    sub_merchant_id = tx.get('Sub-Merchant ID')\n",
    "\n",
    "    # --- A. Age + Time ---\n",
    "    if age < 8 and hour >= 22:\n",
    "        triggered_rules.append(\"AgeTime\")\n",
    "\n",
    "    # --- B. Restricted Hours ---\n",
    "    if hour >= 23 or hour < 6:\n",
    "        triggered_rules.append(\"RestrictedHour\")\n",
    "\n",
    "    # --- C. Lunch by Financial Aid ---\n",
    "    if 11 <= hour < 13:\n",
    "        triggered_rules.append(\"LunchTimeAid\")\n",
    "\n",
    "    # --- D. Region Mismatch (excluding online merchants)\n",
    "    if region_cust != region_merchant and region_merchant != 59:\n",
    "        triggered_rules.append(\"RegionMismatch\")\n",
    "\n",
    "    # --- E. Daily Limit ---\n",
    "    same_day = (history_df['Sub-Merchant ID'] == sub_merchant_id) & (history_df['Transaction Date'] == date)\n",
    "    daily_total = history_df.loc[same_day, 'Transaction Amount'].sum() + amount\n",
    "    if daily_total > 500_000:\n",
    "        triggered_rules.append(\"DailyLimit\")\n",
    "\n",
    "    # --- F. Monthly Limit ---\n",
    "    history_df['Transaction_Month'] = history_df['Transaction Date'] // 100\n",
    "    same_month = (history_df['Sub-Merchant ID'] == sub_merchant_id) & (history_df['Transaction_Month'] == month)\n",
    "    monthly_total = history_df.loc[same_month, 'Transaction Amount'].sum() + amount\n",
    "    if monthly_total > 3_000_000:\n",
    "        triggered_rules.append(\"MonthlyLimit\")\n",
    "\n",
    "    return {\n",
    "        \"is_anomaly\": int(len(triggered_rules) > 0),\n",
    "        \"triggered_rules\": triggered_rules,\n",
    "        \"daily_total\": daily_total,\n",
    "        \"monthly_total\": monthly_total\n",
    "    }\n"
   ]
  },
  {
   "cell_type": "code",
   "execution_count": 13,
   "id": "5017c24d",
   "metadata": {},
   "outputs": [
    {
     "name": "stdout",
     "output_type": "stream",
     "text": [
      "🚨 Anomaly Detected: 1\n",
      "❌ Violated Rules: ['AgeTime']\n",
      "💰 Daily Total: 49900\n",
      "📅 Monthly Total: 49900\n"
     ]
    }
   ],
   "source": [
    "# Prepare historical DataFrame (loaded previously)\n",
    "history_df = pd.read_csv('../dataset/cleaned_BizPlay_2024_DEC.csv')\n",
    "\n",
    "# Example new transaction\n",
    "new_tx = {\n",
    "    'Customer Age': 6,\n",
    "    'Transaction Time': 220012,  # 11PM\n",
    "    'Customer Region': 80,\n",
    "    'Merchant Region': 59,\n",
    "    'Transaction Amount': 49900,\n",
    "    'Transaction Date': 20250101,\n",
    "    'Sub-Merchant ID': 50,\n",
    "}\n",
    "\n",
    "# Check if it's anomalous\n",
    "result = check_transaction_violation(new_tx, history_df)\n",
    "print(\"🚨 Anomaly Detected:\", result['is_anomaly'])\n",
    "print(\"❌ Violated Rules:\", result['triggered_rules'])\n",
    "print(\"💰 Daily Total:\", result['daily_total'])\n",
    "print(\"📅 Monthly Total:\", result['monthly_total'])\n"
   ]
  }
 ],
 "metadata": {
  "kernelspec": {
   "display_name": "abnormal_transaction_detection_env",
   "language": "python",
   "name": "python3"
  },
  "language_info": {
   "codemirror_mode": {
    "name": "ipython",
    "version": 3
   },
   "file_extension": ".py",
   "mimetype": "text/x-python",
   "name": "python",
   "nbconvert_exporter": "python",
   "pygments_lexer": "ipython3",
   "version": "3.12.9"
  }
 },
 "nbformat": 4,
 "nbformat_minor": 5
}

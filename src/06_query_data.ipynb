{
 "cells": [
  {
   "cell_type": "code",
   "execution_count": 65,
   "id": "c695a09e",
   "metadata": {},
   "outputs": [],
   "source": [
    "import pandas as pd\n",
    "from sqlalchemy import create_engine, Table, MetaData, insert, text\n",
    "from collections import defaultdict\n",
    "from datetime import date"
   ]
  },
  {
   "cell_type": "code",
   "execution_count": 66,
   "id": "830ff3cf",
   "metadata": {},
   "outputs": [],
   "source": [
    "DB_USER = 'postgres'\n",
    "DB_PASSWORD = 'postgres123'\n",
    "DB_HOST = '10.255.78.58'\n",
    "DB_PORT = '9002'\n",
    "DB_NAME = 'anomaly_detection'\n",
    "\n",
    "connection_string = f\"postgresql+psycopg2://{DB_USER}:{DB_PASSWORD}@{DB_HOST}:{DB_PORT}/{DB_NAME}\"\n",
    "engine = create_engine(connection_string)"
   ]
  },
  {
   "cell_type": "code",
   "execution_count": 67,
   "id": "cf1bf07d",
   "metadata": {},
   "outputs": [
    {
     "name": "stdout",
     "output_type": "stream",
     "text": [
      "✅ Query successful. Retrieved rows: 213213\n",
      "  Transaction Date Sub-Merchant ID    sum\n",
      "0         20250101     00944741669  32000\n",
      "1         20250101      S240131329  74500\n",
      "2         20250101     00987276177  40000\n",
      "3         20250101     00920589109  20720\n",
      "4         20250101     00913319126  28000\n"
     ]
    }
   ],
   "source": [
    "try:\n",
    "    df = pd.read_sql(query, engine)\n",
    "    print(\"✅ Query successful. Retrieved rows:\", len(df))\n",
    "    print(df.head())\n",
    "\n",
    "except Exception as e:\n",
    "    print(\"❌ Failed to query materialized view:\", e)"
   ]
  },
  {
   "cell_type": "code",
   "execution_count": 76,
   "id": "fb5781b5",
   "metadata": {},
   "outputs": [],
   "source": [
    "aggregation_cache = defaultdict(float)\n",
    "def get_aggregation(sub_merchant_id, transaction_date):\n",
    "    \n",
    "    # query = f\"\"\"\n",
    "    #     select \"Transaction Date\", \"Sub-Merchant ID\", sum(\"Transaction Amount\") AS \"Total Amount\"\n",
    "    #     from \"BizPlay_2025_JAN\" WHERE \"Sub-Merchant ID\" = '{sub_merchant_id}' and \"Transaction Date\"='{transaction_date}'\n",
    "    #     GROUP BY \"Sub-Merchant ID\", \"Transaction Date\" ORDER BY \"Transaction Date\";\n",
    "    #     \"\"\"\n",
    "    \n",
    "    query = f\"\"\"\n",
    "        select *\n",
    "        from daily_thresholds_with_index\n",
    "        WHERE \"Sub-Merchant ID\" = '{sub_merchant_id}' and \"Transaction Date\"='{transaction_date}';\n",
    "    \"\"\"\n",
    "    df = pd.read_sql(query, engine)\n",
    "    \n",
    "    if not df.empty:\n",
    "        # Extract values\n",
    "        date_val = df.at[0, \"Transaction Date\"]\n",
    "        sid = df.at[0, \"Sub-Merchant ID\"]\n",
    "        amount = df.at[0, \"Total Amount\"]\n",
    "        \n",
    "        aggregation_cache[(date_val, sid)] = amount"
   ]
  },
  {
   "cell_type": "code",
   "execution_count": 69,
   "id": "94c0d0eb",
   "metadata": {},
   "outputs": [],
   "source": [
    "def insert_into_database(data):\n",
    "    try:\n",
    "        trans_date = data[\"Transaction Date\"]\n",
    "        sid = data[\"Sub-Merchant ID\"]\n",
    "        amount = data[\"Transaction Amount\"]\n",
    "        key = (trans_date, sid)\n",
    "    \n",
    "        if key not in aggregation_cache:\n",
    "            get_aggregation(sid, trans_date)\n",
    "        \n",
    "        insert_query = text(\"\"\"\n",
    "            INSERT INTO \"BizPlay_2025_JAN\" (\n",
    "                \"Transaction Date\", \"Transaction Time\", \"Transaction Amount\", \n",
    "                \"Customer Date of Birth\", \"Customer Gender\", \"Customer Age\", \n",
    "                \"Customer Region (City/County/District)\", \"Merchant Region (City/County/District)\", \n",
    "                \"Merchant ID\", \"Sub-Merchant ID\", \"Transaction Processing Agency (VAN)\", \"Distance\"\n",
    "            ) VALUES (\n",
    "                :transaction_date, :transaction_time, :transaction_amount,\n",
    "                :customer_dob, :customer_gender, :customer_age,\n",
    "                :customer_region, :merchant_region,\n",
    "                :merchant_id, :sub_merchant_id, :van, :distance\n",
    "            );\n",
    "        \"\"\")\n",
    "\n",
    "        params = {\n",
    "            \"transaction_date\": data[\"Transaction Date\"],\n",
    "            \"transaction_time\": data[\"Transaction Time\"],\n",
    "            \"transaction_amount\": data[\"Transaction Amount\"],\n",
    "            \"customer_dob\": data[\"Customer Date of Birth\"],\n",
    "            \"customer_gender\": data[\"Customer Gender\"],\n",
    "            \"customer_age\": data[\"Customer Age\"],\n",
    "            \"customer_region\": data[\"Customer Region (City/County/District)\"],\n",
    "            \"merchant_region\": data[\"Merchant Region (City/County/District)\"],\n",
    "            \"merchant_id\": data[\"Merchant ID\"],\n",
    "            \"sub_merchant_id\": data[\"Sub-Merchant ID\"],\n",
    "            \"van\": data[\"Transaction Processing Agency (VAN)\"],\n",
    "            \"distance\": data[\"Distance\"]\n",
    "        }\n",
    "        with engine.begin() as conn:\n",
    "            conn.execute(insert_query, params)\n",
    "            # conn.commit()\n",
    "        aggregation_cache[key] += data[\"Transaction Amount\"]\n",
    "        print(\"Inserted into Database.\")\n",
    "    except Exception as e:\n",
    "        raise e"
   ]
  },
  {
   "cell_type": "code",
   "execution_count": 79,
   "id": "a93248ef",
   "metadata": {},
   "outputs": [
    {
     "data": {
      "text/plain": [
       "defaultdict(float, {('20250201', '00990981771'): 12200.0})"
      ]
     },
     "execution_count": 79,
     "metadata": {},
     "output_type": "execute_result"
    }
   ],
   "source": [
    "get_aggregation('00990981771', '20250201')\n",
    "aggregation_cache"
   ]
  },
  {
   "cell_type": "code",
   "execution_count": 78,
   "id": "a731dd08",
   "metadata": {},
   "outputs": [
    {
     "name": "stdout",
     "output_type": "stream",
     "text": [
      "Inserted into Database.\n"
     ]
    }
   ],
   "source": [
    "new_trans = {\n",
    "    \"Transaction Date\": \"20250201\",\n",
    "    \"Transaction Time\": \"214209\",\n",
    "    \"Transaction Amount\": 12200,\n",
    "    \"Customer Date of Birth\": \"90522\", \n",
    "    \"Customer Gender\":3, \n",
    "    \"Customer Age\": 15, \n",
    "    \"Customer Region (City/County/District)\":\"41463\",\n",
    "    \"Merchant Region (City/County/District)\":\"41463\", \n",
    "    \"Merchant ID\":\"F000000018\", \n",
    "    \"Sub-Merchant ID\": \"00990981771\",\n",
    "    \"Transaction Processing Agency (VAN)\":55, \n",
    "    \"Distance\":1\n",
    "}\n",
    "insert_into_database(new_trans)"
   ]
  }
 ],
 "metadata": {
  "kernelspec": {
   "display_name": "abnormal_transaction_detection_env",
   "language": "python",
   "name": "python3"
  },
  "language_info": {
   "codemirror_mode": {
    "name": "ipython",
    "version": 3
   },
   "file_extension": ".py",
   "mimetype": "text/x-python",
   "name": "python",
   "nbconvert_exporter": "python",
   "pygments_lexer": "ipython3",
   "version": "3.13.2"
  }
 },
 "nbformat": 4,
 "nbformat_minor": 5
}
